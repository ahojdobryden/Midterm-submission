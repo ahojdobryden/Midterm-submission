{
 "cells": [
  {
   "cell_type": "markdown",
   "id": "310546fb-d6f3-4bba-bab9-f95806b8f11e",
   "metadata": {},
   "source": [
    "## Python midterm - 31.3.2025\n",
    "### Name\n",
    "Anna Turnerová\n",
    "### Student id\n",
    "70701808"
   ]
  },
  {
   "cell_type": "markdown",
   "id": "b217673e-5da9-44d9-af89-15abf86e5ea2",
   "metadata": {},
   "source": [
    "### Task 1"
   ]
  },
  {
   "cell_type": "code",
   "execution_count": 1,
   "id": "8669c05d-bfb4-4b33-874a-2687ec053d36",
   "metadata": {},
   "outputs": [
    {
     "name": "stdout",
     "output_type": "stream",
     "text": [
      "Ouch\n"
     ]
    }
   ],
   "source": [
    "print(\"Ouch\")"
   ]
  },
  {
   "cell_type": "code",
   "execution_count": null,
   "id": "d5635e1d-28d5-48a8-95a4-cb175cee463d",
   "metadata": {},
   "outputs": [],
   "source": []
  },
  {
   "cell_type": "code",
   "execution_count": null,
   "id": "9c825ebc-d0dc-4b02-a523-f26c04294c2e",
   "metadata": {},
   "outputs": [],
   "source": []
  },
  {
   "cell_type": "code",
   "execution_count": null,
   "id": "b40a5d6f-c177-456e-8ee1-47951f2f3f71",
   "metadata": {},
   "outputs": [],
   "source": []
  },
  {
   "cell_type": "code",
   "execution_count": null,
   "id": "f32b9c58-ccd2-4227-95f2-538f66c557b1",
   "metadata": {},
   "outputs": [],
   "source": []
  },
  {
   "cell_type": "code",
   "execution_count": null,
   "id": "478ddd94-4e4e-4fdb-bb5a-41ed33e3c22d",
   "metadata": {},
   "outputs": [],
   "source": []
  },
  {
   "cell_type": "markdown",
   "id": "e67a8659-e505-4602-8db2-ac7743735084",
   "metadata": {},
   "source": [
    "### Task 2"
   ]
  }
 ],
 "metadata": {
  "kernelspec": {
   "display_name": "Python [conda env:base] *",
   "language": "python",
   "name": "conda-base-py"
  },
  "language_info": {
   "codemirror_mode": {
    "name": "ipython",
    "version": 3
   },
   "file_extension": ".py",
   "mimetype": "text/x-python",
   "name": "python",
   "nbconvert_exporter": "python",
   "pygments_lexer": "ipython3",
   "version": "3.12.7"
  }
 },
 "nbformat": 4,
 "nbformat_minor": 5
}
