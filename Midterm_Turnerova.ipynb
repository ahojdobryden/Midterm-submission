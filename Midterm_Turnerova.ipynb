{
 "cells": [
  {
   "cell_type": "markdown",
   "id": "5e021c55-0dcf-4a8d-b24a-66ad95e2c2f5",
   "metadata": {},
   "source": [
    "## Python midterm\n",
    "### Name\n",
    "Anna Turnerová\n",
    "### Student id\n",
    "70701808"
   ]
  },
  {
   "cell_type": "markdown",
   "id": "468546e3-0d4a-4898-9848-9f49c3ad8e04",
   "metadata": {},
   "source": [
    "### Task 1"
   ]
  },
  {
   "cell_type": "code",
   "execution_count": 6,
   "id": "e6e85e0f-8064-4e3a-8877-7f6f47a18a70",
   "metadata": {},
   "outputs": [
    {
     "name": "stdout",
     "output_type": "stream",
     "text": [
      "I think i am getting used to git\n"
     ]
    }
   ],
   "source": [
    "print(\"I think i am getting used to git\")"
   ]
  },
  {
   "cell_type": "code",
   "execution_count": 8,
   "id": "10693e04-94d5-4298-a609-7058c9bb0b6e",
   "metadata": {},
   "outputs": [
    {
     "name": "stdout",
     "output_type": "stream",
     "text": [
      "But i do not want to jinx it\n"
     ]
    }
   ],
   "source": [
    "print(\"But i do not want to jinx it\")"
   ]
  },
  {
   "cell_type": "code",
   "execution_count": null,
   "id": "20d4ce81-3497-4ae3-9231-60ab502bdeaa",
   "metadata": {},
   "outputs": [],
   "source": []
  },
  {
   "cell_type": "code",
   "execution_count": null,
   "id": "3a5b1d4a-a760-46cb-a314-5b3b29569910",
   "metadata": {},
   "outputs": [],
   "source": []
  },
  {
   "cell_type": "code",
   "execution_count": null,
   "id": "ffe92d91-ae4c-42a7-8478-dd6642f56dfc",
   "metadata": {},
   "outputs": [],
   "source": []
  },
  {
   "cell_type": "code",
   "execution_count": null,
   "id": "fcac63a7-4bcb-4c65-8d0a-01a2e17ea329",
   "metadata": {},
   "outputs": [],
   "source": []
  },
  {
   "cell_type": "code",
   "execution_count": null,
   "id": "6bdccb18-78ac-4da6-a03e-89f040f1ca10",
   "metadata": {},
   "outputs": [],
   "source": []
  },
  {
   "cell_type": "code",
   "execution_count": null,
   "id": "174c84d6-d6fa-49a5-b0eb-861263cd9725",
   "metadata": {},
   "outputs": [],
   "source": []
  },
  {
   "cell_type": "markdown",
   "id": "3737f28a-3770-4805-82e7-52d377b1ec8e",
   "metadata": {},
   "source": [
    "### Task 2"
   ]
  }
 ],
 "metadata": {
  "kernelspec": {
   "display_name": "Python [conda env:base] *",
   "language": "python",
   "name": "conda-base-py"
  },
  "language_info": {
   "codemirror_mode": {
    "name": "ipython",
    "version": 3
   },
   "file_extension": ".py",
   "mimetype": "text/x-python",
   "name": "python",
   "nbconvert_exporter": "python",
   "pygments_lexer": "ipython3",
   "version": "3.12.7"
  }
 },
 "nbformat": 4,
 "nbformat_minor": 5
}
